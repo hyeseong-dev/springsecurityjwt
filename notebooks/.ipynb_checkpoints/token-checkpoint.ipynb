{
 "cells": [
  {
   "cell_type": "code",
   "execution_count": 1,
   "id": "11e84871-2cd0-4c70-b1e5-7612929943a4",
   "metadata": {},
   "outputs": [],
   "source": [
    "%classpath add jar \"C:\\Users\\DT-PC-30\\.gradle\\caches\\modules-2\\files-2.1\\io.jsonwebtoken\\jjwt-api\\0.11.5\\f742940040\\jjwt-api-0.11.5.jar\"\n",
    "%classpath add jar \"C:\\Users\\DT-PC-30\\.gradle\\caches\\modules-2\\files-2.1\\io.jsonwebtoken\\jjwt-impl\\0.11.5\\40a599f0e8a8e4e0701596fbb15e67bfda64fdf0\\jjwt-impl-0.11.5.jar\"\n",
    "%classpath add jar \"C:\\Users\\DT-PC-30\\.gradle\\caches\\modules-2\\files-2.1\\io.jsonwebtoken\\jjwt-jackson\\0.11.5\\3b83a06809e98a69402d7333dcf67df6f6ea4579\\jjwt-jackson-0.11.5.jar\"\n"
   ]
  },
  {
   "cell_type": "code",
   "execution_count": 6,
   "id": "d80eb12a-597b-4711-bf1e-26d4ee726148",
   "metadata": {},
   "outputs": [],
   "source": [
    "%maven io.jsonwebtoken:jjwt-api:0.11.5\n",
    "%maven io.jsonwebtoken:jjwt-impl:0.11.5\n",
    "%maven io.jsonwebtoken:jjwt-jackson:0.11.5"
   ]
  },
  {
   "cell_type": "code",
   "execution_count": 7,
   "id": "6d32137b-c93d-4e67-a35f-0a4f529e388d",
   "metadata": {},
   "outputs": [],
   "source": [
    "import io.jsonwebtoken.SignatureAlgorithm;\n",
    "import io.jsonwebtoken.security.Keys;\n",
    "import java.security.Key;\n",
    "\n",
    "private Key getSigningKey() {\n",
    "    // SignatureAlgorithm.HS256을 사용하여 안전한 키를 생성합니다.\n",
    "    return Keys.secretKeyFor(SignatureAlgorithm.HS256);\n",
    "}"
   ]
  },
  {
   "cell_type": "code",
   "execution_count": 4,
   "id": "453e313d-59af-436c-acca-bf4e6e1d6737",
   "metadata": {},
   "outputs": [
    {
     "name": "stdout",
     "output_type": "stream",
     "text": [
      "17.0.4.1\n",
      "17.0.4.1+1-LTS\n",
      "C:\\Program Files\\BellSoft\\LibericaJDK-17\n"
     ]
    }
   ],
   "source": [
    "System.out.println(System.getProperty(\"java.version\"));\n",
    "System.out.println(System.getProperty(\"java.runtime.version\"));\n",
    "System.out.println(System.getProperty(\"java.home\"));"
   ]
  },
  {
   "cell_type": "code",
   "execution_count": null,
   "id": "8f9b1fc3-3d13-4251-af34-c127d7ed6fbb",
   "metadata": {},
   "outputs": [],
   "source": []
  },
  {
   "cell_type": "code",
   "execution_count": null,
   "id": "dfd3edf0-4433-48fc-b55e-d3ea34420946",
   "metadata": {},
   "outputs": [],
   "source": []
  }
 ],
 "metadata": {
  "kernelspec": {
   "display_name": "Java",
   "language": "java",
   "name": "java"
  },
  "language_info": {
   "codemirror_mode": "java",
   "file_extension": ".jshell",
   "mimetype": "text/x-java-source",
   "name": "Java",
   "pygments_lexer": "java",
   "version": "17.0.4.1+1-LTS"
  }
 },
 "nbformat": 4,
 "nbformat_minor": 5
}
